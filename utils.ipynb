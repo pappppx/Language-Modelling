{
 "cells": [
  {
   "cell_type": "markdown",
   "metadata": {
    "id": "_va5zRB7aCMT"
   },
   "source": [
    "# **Useful functions for your lab assigments**\n",
    "\n"
   ]
  },
  {
   "cell_type": "markdown",
   "metadata": {
    "id": "PL19eRkPbg8T"
   },
   "source": [
    "**numpy.argmax: Returns the indices of the maximum values along an axis. https://numpy.org/doc/stable/reference/generated/numpy.argmax.html**"
   ]
  },
  {
   "cell_type": "code",
   "execution_count": null,
   "metadata": {
    "colab": {
     "base_uri": "https://localhost:8080/"
    },
    "executionInfo": {
     "elapsed": 19,
     "status": "ok",
     "timestamp": 1710689964530,
     "user": {
      "displayName": "David V",
      "userId": "14796473427498895857"
     },
     "user_tz": -60
    },
    "id": "YEbmKUJBZ--a",
    "outputId": "f8318459-854f-4758-c06c-b55c778877a4"
   },
   "outputs": [
    {
     "name": "stdout",
     "output_type": "stream",
     "text": [
      "Sample array\n",
      "[0.70293884 0.74374901 0.70404488 0.59345838 0.77858473 0.43629627\n",
      " 0.63244551 0.16081106 0.79091423 0.62556454]\n",
      "Index 8 has the highest value (0.790914227732138) of the array\n"
     ]
    }
   ],
   "source": [
    "import numpy as np\n",
    "array = np.random.rand(10)\n",
    "print (\"Sample array\")\n",
    "print (array)\n",
    "idxmax = np.argmax(array)\n",
    "print (\"Index {} has the highest value ({}) of the array\".format(idxmax, array[idxmax]))"
   ]
  },
  {
   "cell_type": "markdown",
   "metadata": {
    "id": "31sHF-RdFlMw"
   },
   "source": [
    "**np.argsort: Returns the indices that would sort an array.**"
   ]
  },
  {
   "cell_type": "code",
   "execution_count": null,
   "metadata": {
    "colab": {
     "base_uri": "https://localhost:8080/"
    },
    "executionInfo": {
     "elapsed": 280,
     "status": "ok",
     "timestamp": 1710690434058,
     "user": {
      "displayName": "David V",
      "userId": "14796473427498895857"
     },
     "user_tz": -60
    },
    "id": "ZfrB_PmgFf88",
    "outputId": "98f8f8aa-f7f0-46b0-f6b0-1433d071ae18"
   },
   "outputs": [
    {
     "name": "stdout",
     "output_type": "stream",
     "text": [
      "Sample array:\n",
      "[0.29415021 0.70482197 0.78256991 0.99722128 0.52710925 0.24378877\n",
      " 0.70057608 0.47432683 0.13311491 0.21596839]\n",
      "Indices of the three highest values: [1 2 3]\n",
      "Three highest values: [0.70482197 0.78256991 0.99722128]\n"
     ]
    }
   ],
   "source": [
    "# Create a sample array with 10 random numbers\n",
    "array = np.random.rand(10)\n",
    "print(\"Sample array:\")\n",
    "print(array)\n",
    "\n",
    "# argsort to have the array indices and select\n",
    "# the last 3 to get the highest values\n",
    "sorted_idxs = np.argsort(array)\n",
    "top_3_idxs = sorted_idxs[-3:]  # Highest values (3)\n",
    "\n",
    "# Print indices and values\n",
    "print(\"Indices of the three highest values:\", top_3_idxs)\n",
    "print(\"Three highest values:\", array[top_3_idxs])"
   ]
  },
  {
   "cell_type": "code",
   "execution_count": null,
   "metadata": {
    "colab": {
     "base_uri": "https://localhost:8080/"
    },
    "executionInfo": {
     "elapsed": 5059,
     "status": "ok",
     "timestamp": 1677067792179,
     "user": {
      "displayName": "David V",
      "userId": "14796473427498895857"
     },
     "user_tz": -60
    },
    "id": "-pZMrAt7B1_5",
    "outputId": "a627dac8-807b-4399-81a2-b70f8d6e5e59"
   },
   "outputs": [
    {
     "name": "stderr",
     "output_type": "stream",
     "text": [
      "100%|██████████| 1000/1000 [00:05<00:00, 183.46it/s]\n"
     ]
    }
   ],
   "source": [
    "import tqdm\n",
    "import time\n",
    "\n",
    "for i in tqdm.tqdm(range(1000)):\n",
    "  time.sleep(0.005)"
   ]
  },
  {
   "cell_type": "code",
   "execution_count": null,
   "metadata": {
    "colab": {
     "base_uri": "https://localhost:8080/"
    },
    "executionInfo": {
     "elapsed": 5886,
     "status": "ok",
     "timestamp": 1710691099941,
     "user": {
      "displayName": "David V",
      "userId": "14796473427498895857"
     },
     "user_tz": -60
    },
    "id": "9coolUcAHo89",
    "outputId": "019e8a80-5f90-4ae2-ffcb-88ed64f46c40"
   },
   "outputs": [
    {
     "name": "stdout",
     "output_type": "stream",
     "text": [
      "Embedding para la palabra con ID 42: [ 0.00823031  0.02141785  0.01820374 -0.01009005 -0.02754883  0.00563522\n",
      " -0.00352937  0.03212899 -0.00651554  0.02587359  0.04193653  0.03940204\n",
      "  0.00689064 -0.02195159 -0.02422231 -0.03614016 -0.01130661 -0.00643222\n",
      "  0.04271181 -0.00048993 -0.0059251   0.01069289 -0.01470315 -0.0456749\n",
      "  0.01544893 -0.02138658 -0.01342196  0.02473683  0.01170591  0.04721283\n",
      " -0.00810584 -0.04369223  0.00049235  0.04691174  0.04477359  0.03206969\n",
      " -0.00237831  0.01930031 -0.03469455 -0.01566137 -0.01707305 -0.02556692\n",
      " -0.03405615 -0.01247735 -0.00050825 -0.00900447 -0.04056293 -0.03404664\n",
      " -0.01054911 -0.03139811 -0.01267802 -0.00519502 -0.04373744 -0.01750533\n",
      " -0.03514628  0.03230612 -0.03279046 -0.03740565  0.02342477 -0.01417045\n",
      "  0.03042169  0.04458654  0.04394597 -0.00518159]\n"
     ]
    }
   ],
   "source": [
    "from keras.models import Sequential\n",
    "from keras.layers import Embedding\n",
    "\n",
    "# Toy model to see how to access the vectors from the embedding layer\n",
    "embedding_layer = Embedding(input_dim=1000, output_dim=64, name='name_embedding_layer')\n",
    "model = Sequential([embedding_layer])\n",
    "\n",
    "# Get the weights of the embeddin layer (word embeddings)\n",
    "# Here the embeddings are random (we're not training a model)\n",
    "embeddings = embedding_layer.get_weights()[0]\n",
    "\n",
    "# Let's suppose we want the embedding of the word with ID 'word_id'\n",
    "word_id = 42\n",
    "word_embedding = embeddings[word_id]\n",
    "\n",
    "print(f\"Embedding for word with ID {word_id}: {word_embedding}\")\n",
    "\n"
   ]
  }
 ],
 "metadata": {
  "colab": {
   "authorship_tag": "ABX9TyNE45SvkroH9rgawLdVRLAj",
   "provenance": []
  },
  "kernelspec": {
   "display_name": "Python 3",
   "name": "python3"
  },
  "language_info": {
   "name": "python"
  }
 },
 "nbformat": 4,
 "nbformat_minor": 0
}
